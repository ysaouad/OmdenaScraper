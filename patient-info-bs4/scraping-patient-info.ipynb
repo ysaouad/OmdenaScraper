{
 "cells": [
  {
   "cell_type": "code",
   "execution_count": 6,
   "id": "5e004f91",
   "metadata": {},
   "outputs": [],
   "source": [
    "import requests, lxml, re, logging\n",
    "from tqdm import tqdm\n",
    "from bs4 import BeautifulSoup\n",
    "from lxml import etree\n",
    "from re import T\n"
   ]
  },
  {
   "cell_type": "markdown",
   "id": "22bc6427",
   "metadata": {},
   "source": [
    "URLS TO SCRAPE (remember to get date + category): https://patient.info/forums/discuss/browse/anxiety-disorders-70 anxiety\n",
    "https://patient.info/forums/discuss/browse/eating-disorders-862 \n",
    "https://patient.info/forums/discuss/browse/mental-health-1515\n",
    "https://patient.info/forums/discuss/browse/ptsd-post-traumatic-stress-disorder-1721\n",
    "https://patient.info/forums/discuss/browse/bipolar-affective-disorder-271 \n",
    "\n",
    "xpath datetime on main page : /html/body/div/div/div[2]/div[1]/div/div/div/div[1]/div/ul/li[1]/div/div[2]/article/div/div[1]/div[3]/span/time datetime=\"2022-09-26T05:33+00:00\"\n",
    "\n",
    "\n",
    "/html/body/div/div/div[2]/div[1]/div/div/div/div[1]/div/div[2]/form/select/option[1] regex /14"
   ]
  },
  {
   "cell_type": "markdown",
   "id": "117a0991",
   "metadata": {},
   "source": [
    "Picked 'user-agent' for my browser from https://www.whatismybrowser.com/detect/what-is-my-user-agent/\n",
    "\n"
   ]
  },
  {
   "cell_type": "code",
   "execution_count": 24,
   "id": "db1581dd",
   "metadata": {},
   "outputs": [
    {
     "name": "stdout",
     "output_type": "stream",
     "text": [
      "Crawling https://patient.info/forums/discuss/browse/depression-683\n"
     ]
    },
    {
     "name": "stderr",
     "output_type": "stream",
     "text": [
      "  0%|          | 0/197 [00:00<?, ?it/s]"
     ]
    },
    {
     "name": "stdout",
     "output_type": "stream",
     "text": [
      "An exception was thrown for the topic,  Depression at page 0  with this url  0 and xpath []\n",
      "An exception was thrown for the topic,  Depression at page 0  with this url  0 and xpath []\n",
      "An exception was thrown for the topic,  Depression at page 0  with this url  https://patient.info/forums/discuss/coming-off-pristiq-and-amitriptyline-at-the-same-time-790968 and xpath []\n"
     ]
    },
    {
     "name": "stderr",
     "output_type": "stream",
     "text": [
      "100%|██████████| 197/197 [09:47<00:00,  2.98s/it]\n"
     ]
    },
    {
     "name": "stdout",
     "output_type": "stream",
     "text": [
      "End of page\n",
      "Scraping topics\n"
     ]
    },
    {
     "name": "stderr",
     "output_type": "stream",
     "text": [
      " 21%|██▏       | 1475/6892 [09:09<9:48:34,  6.52s/it]"
     ]
    },
    {
     "name": "stdout",
     "output_type": "stream",
     "text": [
      "Couldn't recover text at : https://patient.info/forums/discuss/want-to-come-off-venlafaxine-but-scared-of-withdrawals--649946 , skipping post.\n"
     ]
    },
    {
     "name": "stderr",
     "output_type": "stream",
     "text": [
      " 62%|██████▏   | 4299/6892 [27:05<1:11:48,  1.66s/it]"
     ]
    },
    {
     "name": "stdout",
     "output_type": "stream",
     "text": [
      "Couldn't recover text at : https://patient.info/forums/discuss/planned-to-od-last-night-499662 , skipping post.\n"
     ]
    },
    {
     "name": "stderr",
     "output_type": "stream",
     "text": [
      " 68%|██████▊   | 4698/6892 [29:43<32:44,  1.12it/s]  "
     ]
    },
    {
     "name": "stdout",
     "output_type": "stream",
     "text": [
      "Couldn't recover text at : https://patient.info/forums/discuss/sad-seasonal-affective-disorder--482709 , skipping post.\n"
     ]
    },
    {
     "name": "stderr",
     "output_type": "stream",
     "text": [
      "100%|██████████| 6892/6892 [44:15<00:00,  2.60it/s]\n"
     ]
    },
    {
     "name": "stdout",
     "output_type": "stream",
     "text": [
      "Crawling https://patient.info/forums/discuss/browse/bipolar-affective-disorder-271\n"
     ]
    },
    {
     "name": "stderr",
     "output_type": "stream",
     "text": [
      "100%|██████████| 13/13 [00:45<00:00,  3.47s/it]\n"
     ]
    },
    {
     "name": "stdout",
     "output_type": "stream",
     "text": [
      "End of page\n",
      "Scraping topics\n"
     ]
    },
    {
     "name": "stderr",
     "output_type": "stream",
     "text": [
      "100%|██████████| 455/455 [03:11<00:00,  2.38it/s]\n"
     ]
    },
    {
     "name": "stdout",
     "output_type": "stream",
     "text": [
      "Crawling https://patient.info/forums/discuss/browse/ptsd-post-traumatic-stress-disorder-1721\n"
     ]
    },
    {
     "name": "stderr",
     "output_type": "stream",
     "text": [
      "0it [00:00, ?it/s]\n"
     ]
    },
    {
     "name": "stdout",
     "output_type": "stream",
     "text": [
      "Scraping topics\n"
     ]
    },
    {
     "name": "stderr",
     "output_type": "stream",
     "text": [
      "100%|██████████| 35/35 [00:12<00:00,  2.87it/s]\n"
     ]
    },
    {
     "name": "stdout",
     "output_type": "stream",
     "text": [
      "Crawling https://patient.info/forums/discuss/browse/mental-health-1515\n"
     ]
    },
    {
     "name": "stderr",
     "output_type": "stream",
     "text": [
      "100%|██████████| 48/48 [02:07<00:00,  2.66s/it]\n"
     ]
    },
    {
     "name": "stdout",
     "output_type": "stream",
     "text": [
      "End of page\n",
      "Scraping topics\n"
     ]
    },
    {
     "name": "stderr",
     "output_type": "stream",
     "text": [
      "100%|██████████| 1680/1680 [10:23<00:00,  2.69it/s]\n"
     ]
    },
    {
     "name": "stdout",
     "output_type": "stream",
     "text": [
      "Crawling https://patient.info/forums/discuss/browse/eating-disorders-862\n"
     ]
    },
    {
     "name": "stderr",
     "output_type": "stream",
     "text": [
      "  0%|          | 0/6 [00:00<?, ?it/s]"
     ]
    },
    {
     "name": "stdout",
     "output_type": "stream",
     "text": [
      "An exception was thrown for the topic,  EatingDisorders at page 0  with this url  0 and xpath []\n",
      "An exception was thrown for the topic,  EatingDisorders at page 0  with this url  https://patient.info/forums/discuss/emetophobia-the-devil-in-winter-773089 and xpath []\n"
     ]
    },
    {
     "name": "stderr",
     "output_type": "stream",
     "text": [
      "100%|██████████| 6/6 [00:16<00:00,  2.69s/it]\n"
     ]
    },
    {
     "name": "stdout",
     "output_type": "stream",
     "text": [
      "End of page\n",
      "Scraping topics\n"
     ]
    },
    {
     "name": "stderr",
     "output_type": "stream",
     "text": [
      "100%|██████████| 208/208 [01:15<00:00,  2.77it/s]\n"
     ]
    },
    {
     "name": "stdout",
     "output_type": "stream",
     "text": [
      "Crawling https://patient.info/forums/discuss/browse/anxiety-disorders-70\n"
     ]
    },
    {
     "name": "stderr",
     "output_type": "stream",
     "text": [
      " 21%|██▏       | 165/772 [09:16<23:35,  2.33s/it]"
     ]
    },
    {
     "name": "stdout",
     "output_type": "stream",
     "text": [
      "An exception was thrown for the topic,  AnxietyDisorders at page 164  with this url  https://patient.info/forums/discuss/anyone-at-all-please-im-really-struggling-to-calm-down-686381 and xpath []\n",
      "An exception was thrown for the topic,  AnxietyDisorders at page 164  with this url  https://patient.info/forums/discuss/anyone-at-all-please-im-really-struggling-to-calm-down-686381 and xpath []\n",
      "An exception was thrown for the topic,  AnxietyDisorders at page 164  with this url  https://patient.info/forums/discuss/anyone-at-all-please-im-really-struggling-to-calm-down-686381 and xpath []\n",
      "An exception was thrown for the topic,  AnxietyDisorders at page 164  with this url  https://patient.info/forums/discuss/anyone-at-all-please-im-really-struggling-to-calm-down-686381 and xpath []\n",
      "An exception was thrown for the topic,  AnxietyDisorders at page 164  with this url  https://patient.info/forums/discuss/anyone-at-all-please-im-really-struggling-to-calm-down-686381 and xpath []\n",
      "An exception was thrown for the topic,  AnxietyDisorders at page 164  with this url  https://patient.info/forums/discuss/anyone-at-all-please-im-really-struggling-to-calm-down-686381 and xpath []\n",
      "An exception was thrown for the topic,  AnxietyDisorders at page 164  with this url  https://patient.info/forums/discuss/anyone-at-all-please-im-really-struggling-to-calm-down-686381 and xpath []\n",
      "An exception was thrown for the topic,  AnxietyDisorders at page 164  with this url  https://patient.info/forums/discuss/anyone-at-all-please-im-really-struggling-to-calm-down-686381 and xpath []\n",
      "An exception was thrown for the topic,  AnxietyDisorders at page 164  with this url  https://patient.info/forums/discuss/anyone-at-all-please-im-really-struggling-to-calm-down-686381 and xpath []\n",
      "An exception was thrown for the topic,  AnxietyDisorders at page 164  with this url  https://patient.info/forums/discuss/anyone-at-all-please-im-really-struggling-to-calm-down-686381 and xpath []\n",
      "An exception was thrown for the topic,  AnxietyDisorders at page 164  with this url  https://patient.info/forums/discuss/anyone-at-all-please-im-really-struggling-to-calm-down-686381 and xpath []\n",
      "An exception was thrown for the topic,  AnxietyDisorders at page 164  with this url  https://patient.info/forums/discuss/anyone-at-all-please-im-really-struggling-to-calm-down-686381 and xpath []\n",
      "An exception was thrown for the topic,  AnxietyDisorders at page 164  with this url  https://patient.info/forums/discuss/anyone-at-all-please-im-really-struggling-to-calm-down-686381 and xpath []\n",
      "An exception was thrown for the topic,  AnxietyDisorders at page 164  with this url  https://patient.info/forums/discuss/anyone-at-all-please-im-really-struggling-to-calm-down-686381 and xpath []\n",
      "An exception was thrown for the topic,  AnxietyDisorders at page 164  with this url  https://patient.info/forums/discuss/anyone-at-all-please-im-really-struggling-to-calm-down-686381 and xpath []\n",
      "An exception was thrown for the topic,  AnxietyDisorders at page 164  with this url  https://patient.info/forums/discuss/anyone-at-all-please-im-really-struggling-to-calm-down-686381 and xpath []\n",
      "An exception was thrown for the topic,  AnxietyDisorders at page 164  with this url  https://patient.info/forums/discuss/anyone-at-all-please-im-really-struggling-to-calm-down-686381 and xpath []\n",
      "An exception was thrown for the topic,  AnxietyDisorders at page 164  with this url  https://patient.info/forums/discuss/anyone-at-all-please-im-really-struggling-to-calm-down-686381 and xpath []\n",
      "An exception was thrown for the topic,  AnxietyDisorders at page 164  with this url  https://patient.info/forums/discuss/anyone-at-all-please-im-really-struggling-to-calm-down-686381 and xpath []\n",
      "An exception was thrown for the topic,  AnxietyDisorders at page 164  with this url  https://patient.info/forums/discuss/anyone-at-all-please-im-really-struggling-to-calm-down-686381 and xpath []\n",
      "An exception was thrown for the topic,  AnxietyDisorders at page 164  with this url  https://patient.info/forums/discuss/anyone-at-all-please-im-really-struggling-to-calm-down-686381 and xpath []\n",
      "An exception was thrown for the topic,  AnxietyDisorders at page 164  with this url  https://patient.info/forums/discuss/anyone-at-all-please-im-really-struggling-to-calm-down-686381 and xpath []\n",
      "An exception was thrown for the topic,  AnxietyDisorders at page 164  with this url  https://patient.info/forums/discuss/anyone-at-all-please-im-really-struggling-to-calm-down-686381 and xpath []\n",
      "An exception was thrown for the topic,  AnxietyDisorders at page 164  with this url  https://patient.info/forums/discuss/anyone-at-all-please-im-really-struggling-to-calm-down-686381 and xpath []\n",
      "An exception was thrown for the topic,  AnxietyDisorders at page 164  with this url  https://patient.info/forums/discuss/anyone-at-all-please-im-really-struggling-to-calm-down-686381 and xpath []\n",
      "An exception was thrown for the topic,  AnxietyDisorders at page 164  with this url  https://patient.info/forums/discuss/anyone-at-all-please-im-really-struggling-to-calm-down-686381 and xpath []\n",
      "An exception was thrown for the topic,  AnxietyDisorders at page 164  with this url  https://patient.info/forums/discuss/anyone-at-all-please-im-really-struggling-to-calm-down-686381 and xpath []\n",
      "An exception was thrown for the topic,  AnxietyDisorders at page 164  with this url  https://patient.info/forums/discuss/anyone-at-all-please-im-really-struggling-to-calm-down-686381 and xpath []\n",
      "An exception was thrown for the topic,  AnxietyDisorders at page 164  with this url  https://patient.info/forums/discuss/anyone-at-all-please-im-really-struggling-to-calm-down-686381 and xpath []\n",
      "An exception was thrown for the topic,  AnxietyDisorders at page 164  with this url  https://patient.info/forums/discuss/anyone-at-all-please-im-really-struggling-to-calm-down-686381 and xpath []\n",
      "An exception was thrown for the topic,  AnxietyDisorders at page 164  with this url  https://patient.info/forums/discuss/anyone-at-all-please-im-really-struggling-to-calm-down-686381 and xpath []\n",
      "An exception was thrown for the topic,  AnxietyDisorders at page 164  with this url  https://patient.info/forums/discuss/anyone-at-all-please-im-really-struggling-to-calm-down-686381 and xpath []\n",
      "An exception was thrown for the topic,  AnxietyDisorders at page 164  with this url  https://patient.info/forums/discuss/anyone-at-all-please-im-really-struggling-to-calm-down-686381 and xpath []\n",
      "An exception was thrown for the topic,  AnxietyDisorders at page 164  with this url  https://patient.info/forums/discuss/anyone-at-all-please-im-really-struggling-to-calm-down-686381 and xpath []\n",
      "An exception was thrown for the topic,  AnxietyDisorders at page 164  with this url  https://patient.info/forums/discuss/anyone-at-all-please-im-really-struggling-to-calm-down-686381 and xpath []\n"
     ]
    },
    {
     "name": "stderr",
     "output_type": "stream",
     "text": [
      "100%|██████████| 772/772 [44:17<00:00,  3.44s/it]\n"
     ]
    },
    {
     "name": "stdout",
     "output_type": "stream",
     "text": [
      "End of page\n",
      "Scraping topics\n"
     ]
    },
    {
     "name": "stderr",
     "output_type": "stream",
     "text": [
      " 60%|██████    | 16198/26985 [1:52:38<28:21:23,  9.46s/it]"
     ]
    },
    {
     "name": "stdout",
     "output_type": "stream",
     "text": [
      "Couldn't recover text at : https://patient.info/forums/discuss/anxiety-feeling-sad-564395 , skipping post.\n"
     ]
    },
    {
     "name": "stderr",
     "output_type": "stream",
     "text": [
      " 70%|███████   | 18948/26985 [2:16:22<3:07:30,  1.40s/it] "
     ]
    },
    {
     "name": "stdout",
     "output_type": "stream",
     "text": [
      "Couldn't recover text at : https://patient.info/forums/discuss/propranalol-side-effects-help-please--526182 , skipping post.\n"
     ]
    },
    {
     "name": "stderr",
     "output_type": "stream",
     "text": [
      " 83%|████████▎ | 22498/26985 [2:48:39<11:55:32,  9.57s/it]"
     ]
    },
    {
     "name": "stdout",
     "output_type": "stream",
     "text": [
      "Couldn't recover text at : https://patient.info/forums/discuss/fast-pulse-all-of-a-sudden-479030 , skipping post.\n"
     ]
    },
    {
     "name": "stderr",
     "output_type": "stream",
     "text": [
      "100%|██████████| 26985/26985 [3:28:59<00:00,  2.15it/s]   \n"
     ]
    }
   ],
   "source": [
    "url_list = [\"https://patient.info/forums/discuss/browse/depression-683\",\"https://patient.info/forums/discuss/browse/bipolar-affective-disorder-271\",\n",
    "            \"https://patient.info/forums/discuss/browse/ptsd-post-traumatic-stress-disorder-1721\",\"https://patient.info/forums/discuss/browse/mental-health-1515\",\n",
    "            \"https://patient.info/forums/discuss/browse/eating-disorders-862\",\"https://patient.info/forums/discuss/browse/anxiety-disorders-70\"]\n",
    "#url_list = [\"https://patient.info/forums/discuss/browse/alzheimer-s-disease-67\"]\n",
    "headers = {\n",
    "    'User-Agent': 'Mozilla/5.0 (Windows NT 10.0; Win64; x64) AppleWebKit/537.36 (KHTML, like Gecko) Chrome/106.0.0.0 Safari/537.36'\n",
    "    #Switch the User-agent regularly\n",
    "}\n",
    "\n",
    "session_object = requests.Session()\n",
    "\n",
    "post_dict, fieldnames = scrape_website(url_list, headers)\n",
    "import csv\n",
    "  \n",
    "with open('Results2.csv', 'w', encoding='utf-8') as csvfile:\n",
    "    writer = csv.DictWriter(csvfile, fieldnames = fieldnames,lineterminator = '\\n', delimiter = \";\")\n",
    "    writer.writeheader()\n",
    "    writer.writerows(post_dict)"
   ]
  },
  {
   "cell_type": "code",
   "execution_count": 5,
   "id": "1835a961",
   "metadata": {},
   "outputs": [],
   "source": [
    "def scrape_website(url_list, headers):\n",
    "    session_object = requests.Session() \n",
    "    scraped_posts =[]\n",
    "    for url in url_list:\n",
    "        scraped_urls, topic = scrape_urls_by_topic(url, headers, session_object)\n",
    "        scraped_posts_topic, fieldnames = scrape_topic(scraped_urls, topic, headers)\n",
    "        scraped_posts.append(scraped_posts_topic)\n",
    "    return scraped_posts, fieldnames"
   ]
  },
  {
   "cell_type": "code",
   "execution_count": 4,
   "id": "b2a83099",
   "metadata": {},
   "outputs": [],
   "source": [
    "def scrape_urls_by_topic(url, headers, session_object):\n",
    "    #Use a session to avoid making one request per page + \n",
    "    #          saving time & the server's ressources\n",
    "\n",
    "    post_urls = []\n",
    "    post_url = 0\n",
    "    topic = None\n",
    "    page_num = None\n",
    "    response = session_object.get(url, headers=headers)\n",
    "    soup = BeautifulSoup(response.content, 'lxml')\n",
    "    dom = etree.HTML(str(soup))\n",
    "\n",
    "    try:\n",
    "        page_num = dom.xpath(f'/html/body/div[1]/div/div[2]/div[1]/div/div/div/div[1]/div/div[2]/form/select/option[1]/text()')[0]\n",
    "        page_num = re.findall(\"1\\/([1-9]*)\", page_num)\n",
    "        page_num = int(page_num[0])\n",
    "        topic = dom.xpath(f\"/html/body/div[1]/div/div[2]/header/div[2]/div/div/h1/text()\")[0]\n",
    "        topic = re.sub(\"\\s\",\"\",topic)\n",
    "    except: \n",
    "        if page_num is not None and topic is None:\n",
    "            print(\"Couldn't find topic name\")\n",
    "        if page_num is None and topic is None:\n",
    "            print(\"Couldn't find either final page number or topic name\")\n",
    "        if page_num is None and topic is not None:\n",
    "            print(\"Couldn't find final page number for this topic :\", topic)\n",
    "    print(\"Crawling\", url)\n",
    "    for i in tqdm(range(page_num-1)): \n",
    "    \n",
    "        #Do NOT crawl the entire forum unless necessary. \n",
    "        #The final results are on github. If you want to test the code, simply use a range(1,2)\n",
    "    \n",
    "        page_url = url + f\"?page={i}#group-discussions\"\n",
    "        \n",
    "        response = session_object.get(page_url, headers=headers)\n",
    "        soup = BeautifulSoup(response.content, 'lxml')\n",
    "    \n",
    "        for j in range(1, 37):\n",
    "            if j == 8:\n",
    "                continue\n",
    "            XPATH = f\"/html/body/div[1]/div/div[2]/div[1]/div/div/div/div[1]/div/ul/li[{j}]/div/div[2]/article/h3/a/@href\"\n",
    "            \n",
    "            dom = etree.HTML(str(soup))\n",
    "            try:\n",
    "                post_url = 'https://patient.info' + dom.xpath(XPATH)[0]\n",
    "                post_urls.append(post_url)\n",
    "            except:\n",
    "                print(\"An exception was thrown for the topic, \", topic, \"at page :\",i, \" previously searched url :\", post_url, \"and xpath :\", dom.xpath(XPATH))\n",
    "                continue\n",
    "    \n",
    "    page_url = url + f\"?page={page_num}#group-discussions\"\n",
    "    response = session_object.get(page_url, headers=headers)\n",
    "    soup = BeautifulSoup(response.content, 'lxml')\n",
    "    \n",
    "    for j in range(1, 37):\n",
    "            if j == 8:\n",
    "                continue\n",
    "            XPATH = f\"/html/body/div[1]/div/div[2]/div[1]/div/div/div/div[1]/div/ul/li[{j}]/div/div[2]/article/h3/a/@href\"\n",
    "            \n",
    "            dom = etree.HTML(str(soup))\n",
    "            try:\n",
    "                post_url = 'https://patient.info' + dom.xpath(XPATH)[0]\n",
    "                post_urls.append(post_url)\n",
    "            except:\n",
    "                #print(\"An exception was thrown for the topic, \", topic, \"at page\",i, \" with this url \", post_url, \"and xpath\", dom.xpath(XPATH))\n",
    "                print(\"End of page\") #Need a proper way to take factor in the end of a page before the 37 post limit\n",
    "                break\n",
    "            \n",
    "    return post_urls, topic"
   ]
  },
  {
   "cell_type": "code",
   "execution_count": 3,
   "id": "2790530d",
   "metadata": {},
   "outputs": [],
   "source": [
    "def scrape_topic(post_urls, topic, headers):\n",
    "\n",
    "    post_dict = []\n",
    "    fieldnames = [\"Topic\",\"Date\",\"Title\",\"URL\",\"Main_Post\"]\n",
    "    print(\"Scraping topics\")\n",
    "    for i in tqdm(range(len(post_urls))): \n",
    "\n",
    "        #Do NOT crawl the entire URL list unless necessary. \n",
    "        #The final results are on github. If you want to test the code, simply use a range(1,5)\n",
    "\n",
    "        response = session_object.get(post_urls[i], headers=headers)\n",
    "        soup = BeautifulSoup(response.content, 'lxml')\n",
    "        webpage = etree.HTML(str(soup))\n",
    "\n",
    "        try:\n",
    "            text = webpage.xpath('.//*[@id=\"post_content\"]/input')[0]\n",
    "            text = text.attrib[\"value\"]\n",
    "            text = re.sub(r\"\\r\", \"\", text)\n",
    "            text = re.sub(r\"\\n\", \"\", text)\n",
    "            text = re.sub(r\"<p>\", \"\", text)\n",
    "            text = re.sub(r\"</p>\", \"\", text)\n",
    "\n",
    "        except: \n",
    "            print(\"Couldn't recover text at :\", post_urls[i], \", skipping post.\")\n",
    "            continue\n",
    "\n",
    "        try: \n",
    "            date = webpage.xpath('/html/body/div[1]/div/div[2]/div[1]/div/div/div/div[1]/article/p/span[1]/time')[0]\n",
    "            date = date.attrib['datetime']\n",
    "        except:\n",
    "            print(\"Couldn't recover datetime at :\", post_urls[i])\n",
    "        \n",
    "        try:\n",
    "            title = webpage.xpath('/html/body/div/div/div[2]/div[1]/div/div/div/div[1]/article/div[1]/h1/text()')[0]      \n",
    "        except:\n",
    "            print(\"Couldn't recover title at :\", post_urls[i])\n",
    "\n",
    "\n",
    "        post_dict.append({\"Topic\" : topic, \"Date\" : date, \"Title\" : title, \"URL\": post_urls[i], \"Main_Post\": text})\n",
    "    return post_dict, fieldnames"
   ]
  },
  {
   "cell_type": "code",
   "execution_count": 176,
   "id": "969294e7",
   "metadata": {},
   "outputs": [],
   "source": [
    "import csv\n",
    "  \n",
    "with open('Results.csv', 'w', encoding='utf-8') as csvfile:\n",
    "    writer = csv.DictWriter(csvfile, fieldnames = fieldnames,lineterminator = '\\n', delimiter = \";\")\n",
    "    writer.writeheader()\n",
    "    writer.writerows(post_dict)"
   ]
  }
 ],
 "metadata": {
  "kernelspec": {
   "display_name": "Python 3.10.8 64-bit",
   "language": "python",
   "name": "python3"
  },
  "language_info": {
   "codemirror_mode": {
    "name": "ipython",
    "version": 3
   },
   "file_extension": ".py",
   "mimetype": "text/x-python",
   "name": "python",
   "nbconvert_exporter": "python",
   "pygments_lexer": "ipython3",
   "version": "3.10.8"
  },
  "vscode": {
   "interpreter": {
    "hash": "14b23c39d02bf34543ed3cca2e3eb3976cf3b6363ef7d38a06aad0c31ab0ba62"
   }
  }
 },
 "nbformat": 4,
 "nbformat_minor": 5
}
